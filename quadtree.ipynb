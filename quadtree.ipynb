import matplotlib.pyplot as plt
import cv2
import numpy as np
from operator import add
from functools import reduce

def split4(image):
    half_split = np.array_split(image, 2)
    res = map(lambda x: np.array_split(x, 2, axis=1), half_split)
    return reduce(add, res)

def concatenate4(north_west, north_east, south_west, south_east):
    top = np.concatenate((north_west, north_east), axis=1)
    bottom = np.concatenate((south_west, south_east), axis=1)
    return np.concatenate((top, bottom), axis=0)

# Load the image
img = cv2.imread("Downloads/puppy.png")

# Split the image into 4 parts
split_img = split4(img)

# Display the split images
fig, axs = plt.subplots(2, 2)
axs[0, 0].imshow(cv2.cvtColor(split_img[0], cv2.COLOR_BGR2RGB))
axs[0, 1].imshow(cv2.cvtColor(split_img[1], cv2.COLOR_BGR2RGB))
axs[1, 0].imshow(cv2.cvtColor(split_img[2], cv2.COLOR_BGR2RGB))
axs[1, 1].imshow(cv2.cvtColor(split_img[3], cv2.COLOR_BGR2RGB))

# Concatenate the split images to reconstruct the original image
full_img = concatenate4(split_img[0], split_img[1], split_img[2], split_img[3])

# Display the reconstructed image
plt.figure()
plt.imshow(cv2.cvtColor(full_img, cv2.COLOR_BGR2RGB))
plt.show()
