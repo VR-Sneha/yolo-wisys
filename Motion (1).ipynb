{
  "nbformat": 4,
  "nbformat_minor": 0,
  "metadata": {
    "colab": {
      "provenance": []
    },
    "kernelspec": {
      "name": "python3",
      "display_name": "Python 3"
    },
    "language_info": {
      "name": "python"
    }
  },
  "cells": [
    {
      "cell_type": "code",
      "execution_count": null,
      "metadata": {
        "id": "9A2e3RNv1a94"
      },
      "outputs": [],
      "source": [
        "import cv2\n",
        "from google.colab.patches import cv2_imshow\n",
        "\n",
        "def motion_analysis(video_path):\n",
        "    cap = cv2.VideoCapture(video_path)\n",
        "    ret, prev_frame = cap.read()\n",
        "    prev_gray = cv2.cvtColor(prev_frame, cv2.COLOR_BGR2GRAY)\n",
        "\n",
        "    while cap.isOpened():\n",
        "        ret, frame = cap.read()\n",
        "        if not ret:\n",
        "            break\n",
        "        gray = cv2.cvtColor(frame, cv2.COLOR_BGR2GRAY)\n",
        "        edges_prev = cv2.Canny(prev_gray, 50, 150)\n",
        "        edges_curr = cv2.Canny(gray, 50, 150)\n",
        "        frame_diff = cv2.absdiff(edges_prev, edges_curr)\n",
        "        cv2_imshow(frame_diff)\n",
        "        if cv2.waitKey(30) & 0xFF == ord('q'):\n",
        "            break\n",
        "        prev_gray = gray.copy()\n",
        "    cap.release()\n",
        "    cv2.destroyAllWindows()\n",
        "video_path = \"/content/853889-hd_1920_1080_25fps.mp4\"\n",
        "motion_analysis(video_path)\n"
      ]
    }
  ]
}