{
  "nbformat": 4,
  "nbformat_minor": 0,
  "metadata": {
    "colab": {
      "provenance": []
    },
    "kernelspec": {
      "name": "python3",
      "display_name": "Python 3"
    },
    "language_info": {
      "name": "python"
    }
  },
  "cells": [
    {
      "cell_type": "code",
      "source": [
        "!pip install filterpy"
      ],
      "metadata": {
        "colab": {
          "base_uri": "https://localhost:8080/"
        },
        "id": "eI1Yf2NzSqic",
        "outputId": "3ac846d1-b3bf-45ef-b416-3f26ed85e926"
      },
      "execution_count": 22,
      "outputs": [
        {
          "output_type": "stream",
          "name": "stdout",
          "text": [
            "Collecting filterpy\n",
            "  Downloading filterpy-1.4.5.zip (177 kB)\n",
            "\u001b[?25l     \u001b[90m━━━━━━━━━━━━━━━━━━━━━━━━━━━━━━━━━━━━━━━━\u001b[0m \u001b[32m0.0/178.0 kB\u001b[0m \u001b[31m?\u001b[0m eta \u001b[36m-:--:--\u001b[0m\r\u001b[2K     \u001b[91m━━━━━━━━━━━━━━━━━━━━\u001b[0m\u001b[91m╸\u001b[0m\u001b[90m━━━━━━━━━━━━━━━━━━━\u001b[0m \u001b[32m92.2/178.0 kB\u001b[0m \u001b[31m2.7 MB/s\u001b[0m eta \u001b[36m0:00:01\u001b[0m\r\u001b[2K     \u001b[90m━━━━━━━━━━━━━━━━━━━━━━━━━━━━━━━━━━━━━━━━\u001b[0m \u001b[32m178.0/178.0 kB\u001b[0m \u001b[31m3.6 MB/s\u001b[0m eta \u001b[36m0:00:00\u001b[0m\n",
            "\u001b[?25h  Preparing metadata (setup.py) ... \u001b[?25l\u001b[?25hdone\n",
            "Requirement already satisfied: numpy in /usr/local/lib/python3.10/dist-packages (from filterpy) (1.25.2)\n",
            "Requirement already satisfied: scipy in /usr/local/lib/python3.10/dist-packages (from filterpy) (1.11.4)\n",
            "Requirement already satisfied: matplotlib in /usr/local/lib/python3.10/dist-packages (from filterpy) (3.7.1)\n",
            "Requirement already satisfied: contourpy>=1.0.1 in /usr/local/lib/python3.10/dist-packages (from matplotlib->filterpy) (1.2.1)\n",
            "Requirement already satisfied: cycler>=0.10 in /usr/local/lib/python3.10/dist-packages (from matplotlib->filterpy) (0.12.1)\n",
            "Requirement already satisfied: fonttools>=4.22.0 in /usr/local/lib/python3.10/dist-packages (from matplotlib->filterpy) (4.51.0)\n",
            "Requirement already satisfied: kiwisolver>=1.0.1 in /usr/local/lib/python3.10/dist-packages (from matplotlib->filterpy) (1.4.5)\n",
            "Requirement already satisfied: packaging>=20.0 in /usr/local/lib/python3.10/dist-packages (from matplotlib->filterpy) (24.0)\n",
            "Requirement already satisfied: pillow>=6.2.0 in /usr/local/lib/python3.10/dist-packages (from matplotlib->filterpy) (9.4.0)\n",
            "Requirement already satisfied: pyparsing>=2.3.1 in /usr/local/lib/python3.10/dist-packages (from matplotlib->filterpy) (3.1.2)\n",
            "Requirement already satisfied: python-dateutil>=2.7 in /usr/local/lib/python3.10/dist-packages (from matplotlib->filterpy) (2.8.2)\n",
            "Requirement already satisfied: six>=1.5 in /usr/local/lib/python3.10/dist-packages (from python-dateutil>=2.7->matplotlib->filterpy) (1.16.0)\n",
            "Building wheels for collected packages: filterpy\n",
            "  Building wheel for filterpy (setup.py) ... \u001b[?25l\u001b[?25hdone\n",
            "  Created wheel for filterpy: filename=filterpy-1.4.5-py3-none-any.whl size=110458 sha256=9464854184c920d82c8ddf578848c68dfadd575abeba4cc6ce9e0a6522255966\n",
            "  Stored in directory: /root/.cache/pip/wheels/0f/0c/ea/218f266af4ad626897562199fbbcba521b8497303200186102\n",
            "Successfully built filterpy\n",
            "Installing collected packages: filterpy\n",
            "Successfully installed filterpy-1.4.5\n"
          ]
        }
      ]
    },
    {
      "cell_type": "code",
      "source": [
        "!pip install yt-dlp"
      ],
      "metadata": {
        "colab": {
          "base_uri": "https://localhost:8080/"
        },
        "id": "dwM3Yv18T6zO",
        "outputId": "b3e5b801-4c61-4070-8522-fd1eda2a2812"
      },
      "execution_count": 25,
      "outputs": [
        {
          "output_type": "stream",
          "name": "stdout",
          "text": [
            "Collecting yt-dlp\n",
            "  Downloading yt_dlp-2024.4.9-py3-none-any.whl (3.1 MB)\n",
            "\u001b[2K     \u001b[90m━━━━━━━━━━━━━━━━━━━━━━━━━━━━━━━━━━━━━━━━\u001b[0m \u001b[32m3.1/3.1 MB\u001b[0m \u001b[31m14.1 MB/s\u001b[0m eta \u001b[36m0:00:00\u001b[0m\n",
            "\u001b[?25hCollecting brotli (from yt-dlp)\n",
            "  Downloading Brotli-1.1.0-cp310-cp310-manylinux_2_5_x86_64.manylinux1_x86_64.manylinux_2_12_x86_64.manylinux2010_x86_64.whl (3.0 MB)\n",
            "\u001b[2K     \u001b[90m━━━━━━━━━━━━━━━━━━━━━━━━━━━━━━━━━━━━━━━━\u001b[0m \u001b[32m3.0/3.0 MB\u001b[0m \u001b[31m27.6 MB/s\u001b[0m eta \u001b[36m0:00:00\u001b[0m\n",
            "\u001b[?25hRequirement already satisfied: certifi in /usr/local/lib/python3.10/dist-packages (from yt-dlp) (2024.2.2)\n",
            "Collecting mutagen (from yt-dlp)\n",
            "  Downloading mutagen-1.47.0-py3-none-any.whl (194 kB)\n",
            "\u001b[2K     \u001b[90m━━━━━━━━━━━━━━━━━━━━━━━━━━━━━━━━━━━━━━━━\u001b[0m \u001b[32m194.4/194.4 kB\u001b[0m \u001b[31m25.0 MB/s\u001b[0m eta \u001b[36m0:00:00\u001b[0m\n",
            "\u001b[?25hCollecting pycryptodomex (from yt-dlp)\n",
            "  Downloading pycryptodomex-3.20.0-cp35-abi3-manylinux_2_17_x86_64.manylinux2014_x86_64.whl (2.1 MB)\n",
            "\u001b[2K     \u001b[90m━━━━━━━━━━━━━━━━━━━━━━━━━━━━━━━━━━━━━━━━\u001b[0m \u001b[32m2.1/2.1 MB\u001b[0m \u001b[31m35.8 MB/s\u001b[0m eta \u001b[36m0:00:00\u001b[0m\n",
            "\u001b[?25hRequirement already satisfied: requests<3,>=2.31.0 in /usr/local/lib/python3.10/dist-packages (from yt-dlp) (2.31.0)\n",
            "Requirement already satisfied: urllib3<3,>=1.26.17 in /usr/local/lib/python3.10/dist-packages (from yt-dlp) (2.0.7)\n",
            "Collecting websockets>=12.0 (from yt-dlp)\n",
            "  Downloading websockets-12.0-cp310-cp310-manylinux_2_5_x86_64.manylinux1_x86_64.manylinux_2_17_x86_64.manylinux2014_x86_64.whl (130 kB)\n",
            "\u001b[2K     \u001b[90m━━━━━━━━━━━━━━━━━━━━━━━━━━━━━━━━━━━━━━━━\u001b[0m \u001b[32m130.2/130.2 kB\u001b[0m \u001b[31m16.4 MB/s\u001b[0m eta \u001b[36m0:00:00\u001b[0m\n",
            "\u001b[?25hRequirement already satisfied: charset-normalizer<4,>=2 in /usr/local/lib/python3.10/dist-packages (from requests<3,>=2.31.0->yt-dlp) (3.3.2)\n",
            "Requirement already satisfied: idna<4,>=2.5 in /usr/local/lib/python3.10/dist-packages (from requests<3,>=2.31.0->yt-dlp) (3.6)\n",
            "Installing collected packages: brotli, websockets, pycryptodomex, mutagen, yt-dlp\n",
            "Successfully installed brotli-1.1.0 mutagen-1.47.0 pycryptodomex-3.20.0 websockets-12.0 yt-dlp-2024.4.9\n"
          ]
        }
      ]
    },
    {
      "cell_type": "code",
      "source": [
        "from google.colab import drive\n",
        "drive.mount (\"/content/drive\")\n",
        "!git clone https://github.com/RizwanMunawar/yolov7-object-tracking.git\n",
        "%cd \"yolov7-object-tracking\"\n",
        "!yt-dlp \"https://www.youtube.com/watch?v=ORrrKXGx2SE\"\n",
        "!python detect_and_track.py \\\n",
        "--weights yolov7.pt \\\n",
        "--source \"background video ｜ people ｜ walking ｜ [ORrrKXGx2SE].webm\" \\\n",
        "--classes 0 \\\n",
        "--name \"YOLOV7 Object Tracking\""
      ],
      "metadata": {
        "colab": {
          "base_uri": "https://localhost:8080/"
        },
        "id": "RnQyAjxiD9Rj",
        "outputId": "e31f56b6-4367-4adb-ebbb-5859243549b5"
      },
      "execution_count": null,
      "outputs": [
        {
          "output_type": "stream",
          "name": "stdout",
          "text": [
            "Drive already mounted at /content/drive; to attempt to forcibly remount, call drive.mount(\"/content/drive\", force_remount=True).\n",
            "Cloning into 'yolov7-object-tracking'...\n",
            "remote: Enumerating objects: 226, done.\u001b[K\n",
            "remote: Counting objects: 100% (26/26), done.\u001b[K\n",
            "remote: Compressing objects: 100% (24/24), done.\u001b[K\n",
            "remote: Total 226 (delta 10), reused 8 (delta 2), pack-reused 200\u001b[K\n",
            "Receiving objects: 100% (226/226), 172.87 KiB | 1.29 MiB/s, done.\n",
            "Resolving deltas: 100% (108/108), done.\n",
            "/content/yolov7-object-tracking/yolov7-object-tracking/yolov7-object-tracking/yolov7-object-tracking/yolov7-object-tracking\n",
            "[youtube] Extracting URL: https://www.youtube.com/watch?v=ORrrKXGx2SE\n",
            "[youtube] ORrrKXGx2SE: Downloading webpage\n",
            "[youtube] ORrrKXGx2SE: Downloading ios player API JSON\n",
            "[youtube] ORrrKXGx2SE: Downloading android player API JSON\n",
            "[youtube] ORrrKXGx2SE: Downloading player 7ebf4817\n",
            "[youtube] ORrrKXGx2SE: Downloading m3u8 information\n",
            "[info] ORrrKXGx2SE: Downloading 1 format(s): 248+251\n",
            "[download] Destination: background video ｜ people ｜ walking ｜ [ORrrKXGx2SE].f248.webm\n",
            "\u001b[K[download] 100% of    4.15MiB in \u001b[1;37m00:00:00\u001b[0m at \u001b[0;32m11.52MiB/s\u001b[0m\n",
            "[download] Destination: background video ｜ people ｜ walking ｜ [ORrrKXGx2SE].f251.webm\n",
            "\u001b[K[download] 100% of    6.34KiB in \u001b[1;37m00:00:00\u001b[0m at \u001b[0;32m85.71KiB/s\u001b[0m\n",
            "[Merger] Merging formats into \"background video ｜ people ｜ walking ｜ [ORrrKXGx2SE].webm\"\n",
            "Deleting original file background video ｜ people ｜ walking ｜ [ORrrKXGx2SE].f248.webm (pass -k to keep)\n",
            "Deleting original file background video ｜ people ｜ walking ｜ [ORrrKXGx2SE].f251.webm (pass -k to keep)\n",
            "Namespace(weights=['yolov7.pt'], download=True, source='background video ｜ people ｜ walking ｜ [ORrrKXGx2SE].webm', img_size=640, conf_thres=0.25, iou_thres=0.45, device='', view_img=False, save_txt=False, save_conf=False, nosave=False, classes=[0], agnostic_nms=False, augment=False, update=False, project='runs/detect', name='YOLOV7 Object Tracking', exist_ok=False, no_trace=False, colored_trk=False, save_bbox_dim=False, save_with_object_id=False)\n",
            "Model weights not found. Attempting to download now...\n",
            "yolov7.pt: 100% 72.1M/72.1M [00:01<00:00, 40.1MiB/s]\n",
            "YOLOR 🚀 yolov7-object-tracking-50-g067f564 torch 2.2.1+cu121 CPU\n",
            "\n",
            "Fusing layers... \n",
            "RepConv.fuse_repvgg_block\n",
            "RepConv.fuse_repvgg_block\n",
            "RepConv.fuse_repvgg_block\n",
            "Model Summary: 306 layers, 36905341 parameters, 6652669 gradients\n",
            " Convert model to Traced-model... \n",
            " traced_script_module saved! \n",
            " model is traced! \n",
            "\n",
            "/usr/local/lib/python3.10/dist-packages/torch/functional.py:507: UserWarning: torch.meshgrid: in an upcoming release, it will be required to pass the indexing argument. (Triggered internally at ../aten/src/ATen/native/TensorShape.cpp:3549.)\n",
            "  return _VF.meshgrid(tensors, **kwargs)  # type: ignore[attr-defined]\n",
            "video 1/1 (1/343) /content/yolov7-object-tracking/yolov7-object-tracking/yolov7-object-tracking/yolov7-object-tracking/yolov7-object-tracking/background video ｜ people ｜ walking ｜ [ORrrKXGx2SE].webm: 31 persons, Done. (1371.9ms) Inference, (29.9ms) NMS\n",
            "OpenCV: FFMPEG: tag 0x7634706d/'mp4v' is not supported with codec id 12 and format 'webm / WebM'\n",
            "\u001b[1;35m[webm @ 0x579a0100a880] \u001b[0m\u001b[1;31mOnly VP8 or VP9 or AV1 video and Vorbis or Opus audio and WebVTT subtitles are supported for WebM.\n",
            "\u001b[0mvideo 1/1 (2/343) /content/yolov7-object-tracking/yolov7-object-tracking/yolov7-object-tracking/yolov7-object-tracking/yolov7-object-tracking/background video ｜ people ｜ walking ｜ [ORrrKXGx2SE].webm: 32 persons, Done. (1286.3ms) Inference, (1.3ms) NMS\n",
            "video 1/1 (3/343) /content/yolov7-object-tracking/yolov7-object-tracking/yolov7-object-tracking/yolov7-object-tracking/yolov7-object-tracking/background video ｜ people ｜ walking ｜ [ORrrKXGx2SE].webm: 33 persons, Done. (1269.9ms) Inference, (1.3ms) NMS\n",
            "video 1/1 (4/343) /content/yolov7-object-tracking/yolov7-object-tracking/yolov7-object-tracking/yolov7-object-tracking/yolov7-object-tracking/background video ｜ people ｜ walking ｜ [ORrrKXGx2SE].webm: 32 persons, Done. (1276.5ms) Inference, (1.3ms) NMS\n",
            "video 1/1 (5/343) /content/yolov7-object-tracking/yolov7-object-tracking/yolov7-object-tracking/yolov7-object-tracking/yolov7-object-tracking/background video ｜ people ｜ walking ｜ [ORrrKXGx2SE].webm: 33 persons, Done. (1261.5ms) Inference, (1.3ms) NMS\n",
            "video 1/1 (6/343) /content/yolov7-object-tracking/yolov7-object-tracking/yolov7-object-tracking/yolov7-object-tracking/yolov7-object-tracking/background video ｜ people ｜ walking ｜ [ORrrKXGx2SE].webm: 35 persons, Done. (1269.3ms) Inference, (1.3ms) NMS\n",
            "video 1/1 (7/343) /content/yolov7-object-tracking/yolov7-object-tracking/yolov7-object-tracking/yolov7-object-tracking/yolov7-object-tracking/background video ｜ people ｜ walking ｜ [ORrrKXGx2SE].webm: 32 persons, Done. (1820.7ms) Inference, (1.8ms) NMS\n",
            "video 1/1 (8/343) /content/yolov7-object-tracking/yolov7-object-tracking/yolov7-object-tracking/yolov7-object-tracking/yolov7-object-tracking/background video ｜ people ｜ walking ｜ [ORrrKXGx2SE].webm: 33 persons, Done. (2017.2ms) Inference, (2.0ms) NMS\n",
            "video 1/1 (9/343) /content/yolov7-object-tracking/yolov7-object-tracking/yolov7-object-tracking/yolov7-object-tracking/yolov7-object-tracking/background video ｜ people ｜ walking ｜ [ORrrKXGx2SE].webm: 36 persons, Done. (1408.9ms) Inference, (1.2ms) NMS\n",
            "video 1/1 (10/343) /content/yolov7-object-tracking/yolov7-object-tracking/yolov7-object-tracking/yolov7-object-tracking/yolov7-object-tracking/background video ｜ people ｜ walking ｜ [ORrrKXGx2SE].webm: 35 persons, Done. (1280.1ms) Inference, (1.3ms) NMS\n",
            "video 1/1 (11/343) /content/yolov7-object-tracking/yolov7-object-tracking/yolov7-object-tracking/yolov7-object-tracking/yolov7-object-tracking/background video ｜ people ｜ walking ｜ [ORrrKXGx2SE].webm: 37 persons, Done. (1271.6ms) Inference, (1.3ms) NMS\n",
            "video 1/1 (12/343) /content/yolov7-object-tracking/yolov7-object-tracking/yolov7-object-tracking/yolov7-object-tracking/yolov7-object-tracking/background video ｜ people ｜ walking ｜ [ORrrKXGx2SE].webm: 34 persons, Done. (1266.4ms) Inference, (1.2ms) NMS\n",
            "video 1/1 (13/343) /content/yolov7-object-tracking/yolov7-object-tracking/yolov7-object-tracking/yolov7-object-tracking/yolov7-object-tracking/background video ｜ people ｜ walking ｜ [ORrrKXGx2SE].webm: 36 persons, Done. (1261.9ms) Inference, (1.9ms) NMS\n",
            "video 1/1 (14/343) /content/yolov7-object-tracking/yolov7-object-tracking/yolov7-object-tracking/yolov7-object-tracking/yolov7-object-tracking/background video ｜ people ｜ walking ｜ [ORrrKXGx2SE].webm: 37 persons, Done. (1259.7ms) Inference, (1.2ms) NMS\n",
            "video 1/1 (15/343) /content/yolov7-object-tracking/yolov7-object-tracking/yolov7-object-tracking/yolov7-object-tracking/yolov7-object-tracking/background video ｜ people ｜ walking ｜ [ORrrKXGx2SE].webm: 37 persons, Done. (1342.1ms) Inference, (1.3ms) NMS\n",
            "video 1/1 (16/343) /content/yolov7-object-tracking/yolov7-object-tracking/yolov7-object-tracking/yolov7-object-tracking/yolov7-object-tracking/background video ｜ people ｜ walking ｜ [ORrrKXGx2SE].webm: 35 persons, Done. (1398.0ms) Inference, (2.0ms) NMS\n",
            "video 1/1 (17/343) /content/yolov7-object-tracking/yolov7-object-tracking/yolov7-object-tracking/yolov7-object-tracking/yolov7-object-tracking/background video ｜ people ｜ walking ｜ [ORrrKXGx2SE].webm: 33 persons, Done. (2101.2ms) Inference, (4.0ms) NMS\n",
            "video 1/1 (18/343) /content/yolov7-object-tracking/yolov7-object-tracking/yolov7-object-tracking/yolov7-object-tracking/yolov7-object-tracking/background video ｜ people ｜ walking ｜ [ORrrKXGx2SE].webm: 32 persons, Done. (1859.8ms) Inference, (1.5ms) NMS\n",
            "video 1/1 (19/343) /content/yolov7-object-tracking/yolov7-object-tracking/yolov7-object-tracking/yolov7-object-tracking/yolov7-object-tracking/background video ｜ people ｜ walking ｜ [ORrrKXGx2SE].webm: 34 persons, Done. (1354.9ms) Inference, (1.3ms) NMS\n",
            "video 1/1 (20/343) /content/yolov7-object-tracking/yolov7-object-tracking/yolov7-object-tracking/yolov7-object-tracking/yolov7-object-tracking/background video ｜ people ｜ walking ｜ [ORrrKXGx2SE].webm: 33 persons, Done. (1265.7ms) Inference, (1.3ms) NMS\n",
            "video 1/1 (21/343) /content/yolov7-object-tracking/yolov7-object-tracking/yolov7-object-tracking/yolov7-object-tracking/yolov7-object-tracking/background video ｜ people ｜ walking ｜ [ORrrKXGx2SE].webm: 35 persons, Done. (1267.7ms) Inference, (1.3ms) NMS\n",
            "video 1/1 (22/343) /content/yolov7-object-tracking/yolov7-object-tracking/yolov7-object-tracking/yolov7-object-tracking/yolov7-object-tracking/background video ｜ people ｜ walking ｜ [ORrrKXGx2SE].webm: 34 persons, Done. (1268.5ms) Inference, (1.2ms) NMS\n",
            "video 1/1 (23/343) /content/yolov7-object-tracking/yolov7-object-tracking/yolov7-object-tracking/yolov7-object-tracking/yolov7-object-tracking/background video ｜ people ｜ walking ｜ [ORrrKXGx2SE].webm: 36 persons, Done. (1267.6ms) Inference, (1.3ms) NMS\n",
            "video 1/1 (24/343) /content/yolov7-object-tracking/yolov7-object-tracking/yolov7-object-tracking/yolov7-object-tracking/yolov7-object-tracking/background video ｜ people ｜ walking ｜ [ORrrKXGx2SE].webm: 35 persons, Done. (1275.6ms) Inference, (2.0ms) NMS\n",
            "video 1/1 (25/343) /content/yolov7-object-tracking/yolov7-object-tracking/yolov7-object-tracking/yolov7-object-tracking/yolov7-object-tracking/background video ｜ people ｜ walking ｜ [ORrrKXGx2SE].webm: 35 persons, Done. (1261.7ms) Inference, (1.3ms) NMS\n",
            "video 1/1 (26/343) /content/yolov7-object-tracking/yolov7-object-tracking/yolov7-object-tracking/yolov7-object-tracking/yolov7-object-tracking/background video ｜ people ｜ walking ｜ [ORrrKXGx2SE].webm: 35 persons, Done. (1650.3ms) Inference, (1.7ms) NMS\n",
            "video 1/1 (27/343) /content/yolov7-object-tracking/yolov7-object-tracking/yolov7-object-tracking/yolov7-object-tracking/yolov7-object-tracking/background video ｜ people ｜ walking ｜ [ORrrKXGx2SE].webm: 33 persons, Done. (1987.1ms) Inference, (1.9ms) NMS\n",
            "video 1/1 (28/343) /content/yolov7-object-tracking/yolov7-object-tracking/yolov7-object-tracking/yolov7-object-tracking/yolov7-object-tracking/background video ｜ people ｜ walking ｜ [ORrrKXGx2SE].webm: 31 persons, Done. (1624.7ms) Inference, (1.2ms) NMS\n",
            "video 1/1 (29/343) /content/yolov7-object-tracking/yolov7-object-tracking/yolov7-object-tracking/yolov7-object-tracking/yolov7-object-tracking/background video ｜ people ｜ walking ｜ [ORrrKXGx2SE].webm: 31 persons, Done. (1272.9ms) Inference, (1.3ms) NMS\n",
            "video 1/1 (30/343) /content/yolov7-object-tracking/yolov7-object-tracking/yolov7-object-tracking/yolov7-object-tracking/yolov7-object-tracking/background video ｜ people ｜ walking ｜ [ORrrKXGx2SE].webm: 32 persons, Done. (1259.7ms) Inference, (1.3ms) NMS\n",
            "video 1/1 (31/343) /content/yolov7-object-tracking/yolov7-object-tracking/yolov7-object-tracking/yolov7-object-tracking/yolov7-object-tracking/background video ｜ people ｜ walking ｜ [ORrrKXGx2SE].webm: 34 persons, Done. (1259.4ms) Inference, (1.3ms) NMS\n",
            "video 1/1 (32/343) /content/yolov7-object-tracking/yolov7-object-tracking/yolov7-object-tracking/yolov7-object-tracking/yolov7-object-tracking/background video ｜ people ｜ walking ｜ [ORrrKXGx2SE].webm: 34 persons, Done. (1256.3ms) Inference, (1.9ms) NMS\n",
            "video 1/1 (33/343) /content/yolov7-object-tracking/yolov7-object-tracking/yolov7-object-tracking/yolov7-object-tracking/yolov7-object-tracking/background video ｜ people ｜ walking ｜ [ORrrKXGx2SE].webm: 35 persons, Done. (1280.2ms) Inference, (1.2ms) NMS\n",
            "video 1/1 (34/343) /content/yolov7-object-tracking/yolov7-object-tracking/yolov7-object-tracking/yolov7-object-tracking/yolov7-object-tracking/background video ｜ people ｜ walking ｜ [ORrrKXGx2SE].webm: 35 persons, Done. (1262.2ms) Inference, (1.3ms) NMS\n",
            "video 1/1 (35/343) /content/yolov7-object-tracking/yolov7-object-tracking/yolov7-object-tracking/yolov7-object-tracking/yolov7-object-tracking/background video ｜ people ｜ walking ｜ [ORrrKXGx2SE].webm: 37 persons, Done. (1251.1ms) Inference, (1.3ms) NMS\n",
            "video 1/1 (36/343) /content/yolov7-object-tracking/yolov7-object-tracking/yolov7-object-tracking/yolov7-object-tracking/yolov7-object-tracking/background video ｜ people ｜ walking ｜ [ORrrKXGx2SE].webm: 37 persons, Done. (1786.1ms) Inference, (1.9ms) NMS\n",
            "video 1/1 (37/343) /content/yolov7-object-tracking/yolov7-object-tracking/yolov7-object-tracking/yolov7-object-tracking/yolov7-object-tracking/background video ｜ people ｜ walking ｜ [ORrrKXGx2SE].webm: 38 persons, Done. (1957.4ms) Inference, (1.9ms) NMS\n",
            "video 1/1 (38/343) /content/yolov7-object-tracking/yolov7-object-tracking/yolov7-object-tracking/yolov7-object-tracking/yolov7-object-tracking/background video ｜ people ｜ walking ｜ [ORrrKXGx2SE].webm: 34 persons, Done. (1476.7ms) Inference, (1.2ms) NMS\n",
            "video 1/1 (39/343) /content/yolov7-object-tracking/yolov7-object-tracking/yolov7-object-tracking/yolov7-object-tracking/yolov7-object-tracking/background video ｜ people ｜ walking ｜ [ORrrKXGx2SE].webm: 35 persons, Done. (1269.7ms) Inference, (1.5ms) NMS\n",
            "video 1/1 (40/343) /content/yolov7-object-tracking/yolov7-object-tracking/yolov7-object-tracking/yolov7-object-tracking/yolov7-object-tracking/background video ｜ people ｜ walking ｜ [ORrrKXGx2SE].webm: 36 persons, Done. (1269.2ms) Inference, (1.3ms) NMS\n",
            "video 1/1 (41/343) /content/yolov7-object-tracking/yolov7-object-tracking/yolov7-object-tracking/yolov7-object-tracking/yolov7-object-tracking/background video ｜ people ｜ walking ｜ [ORrrKXGx2SE].webm: 37 persons, Done. (1262.3ms) Inference, (1.3ms) NMS\n",
            "video 1/1 (42/343) /content/yolov7-object-tracking/yolov7-object-tracking/yolov7-object-tracking/yolov7-object-tracking/yolov7-object-tracking/background video ｜ people ｜ walking ｜ [ORrrKXGx2SE].webm: 35 persons, Done. (1265.4ms) Inference, (1.3ms) NMS\n",
            "video 1/1 (43/343) /content/yolov7-object-tracking/yolov7-object-tracking/yolov7-object-tracking/yolov7-object-tracking/yolov7-object-tracking/background video ｜ people ｜ walking ｜ [ORrrKXGx2SE].webm: 35 persons, Done. (1260.7ms) Inference, (1.3ms) NMS\n",
            "video 1/1 (44/343) /content/yolov7-object-tracking/yolov7-object-tracking/yolov7-object-tracking/yolov7-object-tracking/yolov7-object-tracking/background video ｜ people ｜ walking ｜ [ORrrKXGx2SE].webm: 33 persons, Done. (1274.5ms) Inference, (1.2ms) NMS\n",
            "video 1/1 (45/343) /content/yolov7-object-tracking/yolov7-object-tracking/yolov7-object-tracking/yolov7-object-tracking/yolov7-object-tracking/background video ｜ people ｜ walking ｜ [ORrrKXGx2SE].webm: 36 persons, Done. (1274.5ms) Inference, (1.3ms) NMS\n",
            "video 1/1 (46/343) /content/yolov7-object-tracking/yolov7-object-tracking/yolov7-object-tracking/yolov7-object-tracking/yolov7-object-tracking/background video ｜ people ｜ walking ｜ [ORrrKXGx2SE].webm: 36 persons, Done. (1951.2ms) Inference, (1.6ms) NMS\n",
            "video 1/1 (47/343) /content/yolov7-object-tracking/yolov7-object-tracking/yolov7-object-tracking/yolov7-object-tracking/yolov7-object-tracking/background video ｜ people ｜ walking ｜ [ORrrKXGx2SE].webm: 33 persons, Done. (1955.5ms) Inference, (1.8ms) NMS\n",
            "video 1/1 (48/343) /content/yolov7-object-tracking/yolov7-object-tracking/yolov7-object-tracking/yolov7-object-tracking/yolov7-object-tracking/background video ｜ people ｜ walking ｜ [ORrrKXGx2SE].webm: 36 persons, Done. (1279.4ms) Inference, (1.3ms) NMS\n",
            "video 1/1 (49/343) /content/yolov7-object-tracking/yolov7-object-tracking/yolov7-object-tracking/yolov7-object-tracking/yolov7-object-tracking/background video ｜ people ｜ walking ｜ [ORrrKXGx2SE].webm: 35 persons, Done. (1261.0ms) Inference, (1.2ms) NMS\n",
            "video 1/1 (50/343) /content/yolov7-object-tracking/yolov7-object-tracking/yolov7-object-tracking/yolov7-object-tracking/yolov7-object-tracking/background video ｜ people ｜ walking ｜ [ORrrKXGx2SE].webm: 35 persons, Done. (1267.2ms) Inference, (1.3ms) NMS\n",
            "video 1/1 (51/343) /content/yolov7-object-tracking/yolov7-object-tracking/yolov7-object-tracking/yolov7-object-tracking/yolov7-object-tracking/background video ｜ people ｜ walking ｜ [ORrrKXGx2SE].webm: 37 persons, Done. (1261.2ms) Inference, (1.2ms) NMS\n",
            "video 1/1 (52/343) /content/yolov7-object-tracking/yolov7-object-tracking/yolov7-object-tracking/yolov7-object-tracking/yolov7-object-tracking/background video ｜ people ｜ walking ｜ [ORrrKXGx2SE].webm: 37 persons, Done. (1252.5ms) Inference, (1.2ms) NMS\n",
            "video 1/1 (53/343) /content/yolov7-object-tracking/yolov7-object-tracking/yolov7-object-tracking/yolov7-object-tracking/yolov7-object-tracking/background video ｜ people ｜ walking ｜ [ORrrKXGx2SE].webm: 36 persons, Done. (1254.7ms) Inference, (1.3ms) NMS\n",
            "video 1/1 (54/343) /content/yolov7-object-tracking/yolov7-object-tracking/yolov7-object-tracking/yolov7-object-tracking/yolov7-object-tracking/background video ｜ people ｜ walking ｜ [ORrrKXGx2SE].webm: 36 persons, Done. (1279.0ms) Inference, (1.3ms) NMS\n",
            "video 1/1 (55/343) /content/yolov7-object-tracking/yolov7-object-tracking/yolov7-object-tracking/yolov7-object-tracking/yolov7-object-tracking/background video ｜ people ｜ walking ｜ [ORrrKXGx2SE].webm: 36 persons, Done. (1446.9ms) Inference, (1.6ms) NMS\n",
            "video 1/1 (56/343) /content/yolov7-object-tracking/yolov7-object-tracking/yolov7-object-tracking/yolov7-object-tracking/yolov7-object-tracking/background video ｜ people ｜ walking ｜ [ORrrKXGx2SE].webm: 35 persons, Done. (1958.5ms) Inference, (1.6ms) NMS\n",
            "video 1/1 (57/343) /content/yolov7-object-tracking/yolov7-object-tracking/yolov7-object-tracking/yolov7-object-tracking/yolov7-object-tracking/background video ｜ people ｜ walking ｜ [ORrrKXGx2SE].webm: 34 persons, Done. (1773.7ms) Inference, (1.3ms) NMS\n",
            "video 1/1 (58/343) /content/yolov7-object-tracking/yolov7-object-tracking/yolov7-object-tracking/yolov7-object-tracking/yolov7-object-tracking/background video ｜ people ｜ walking ｜ [ORrrKXGx2SE].webm: 36 persons, Done. (1262.3ms) Inference, (1.3ms) NMS\n",
            "video 1/1 (59/343) /content/yolov7-object-tracking/yolov7-object-tracking/yolov7-object-tracking/yolov7-object-tracking/yolov7-object-tracking/background video ｜ people ｜ walking ｜ [ORrrKXGx2SE].webm: 37 persons, Done. (1263.9ms) Inference, (1.2ms) NMS\n",
            "video 1/1 (60/343) /content/yolov7-object-tracking/yolov7-object-tracking/yolov7-object-tracking/yolov7-object-tracking/yolov7-object-tracking/background video ｜ people ｜ walking ｜ [ORrrKXGx2SE].webm: 35 persons, Done. (1260.7ms) Inference, (1.3ms) NMS\n",
            "video 1/1 (61/343) /content/yolov7-object-tracking/yolov7-object-tracking/yolov7-object-tracking/yolov7-object-tracking/yolov7-object-tracking/background video ｜ people ｜ walking ｜ [ORrrKXGx2SE].webm: 34 persons, Done. (1296.6ms) Inference, (1.2ms) NMS\n",
            "video 1/1 (62/343) /content/yolov7-object-tracking/yolov7-object-tracking/yolov7-object-tracking/yolov7-object-tracking/yolov7-object-tracking/background video ｜ people ｜ walking ｜ [ORrrKXGx2SE].webm: 34 persons, Done. (1272.6ms) Inference, (1.2ms) NMS\n",
            "video 1/1 (63/343) /content/yolov7-object-tracking/yolov7-object-tracking/yolov7-object-tracking/yolov7-object-tracking/yolov7-object-tracking/background video ｜ people ｜ walking ｜ [ORrrKXGx2SE].webm: 34 persons, Done. (1264.9ms) Inference, (1.3ms) NMS\n",
            "video 1/1 (64/343) /content/yolov7-object-tracking/yolov7-object-tracking/yolov7-object-tracking/yolov7-object-tracking/yolov7-object-tracking/background video ｜ people ｜ walking ｜ [ORrrKXGx2SE].webm: 34 persons, Done. (1273.9ms) Inference, (1.3ms) NMS\n",
            "video 1/1 (65/343) /content/yolov7-object-tracking/yolov7-object-tracking/yolov7-object-tracking/yolov7-object-tracking/yolov7-object-tracking/background video ｜ people ｜ walking ｜ [ORrrKXGx2SE].webm: 34 persons, Done. (1734.5ms) Inference, (1.7ms) NMS\n",
            "video 1/1 (66/343) /content/yolov7-object-tracking/yolov7-object-tracking/yolov7-object-tracking/yolov7-object-tracking/yolov7-object-tracking/background video ｜ people ｜ walking ｜ [ORrrKXGx2SE].webm: 34 persons, Done. (1958.5ms) Inference, (1.7ms) NMS\n",
            "video 1/1 (67/343) /content/yolov7-object-tracking/yolov7-object-tracking/yolov7-object-tracking/yolov7-object-tracking/yolov7-object-tracking/background video ｜ people ｜ walking ｜ [ORrrKXGx2SE].webm: 33 persons, Done. (1524.9ms) Inference, (1.3ms) NMS\n",
            "video 1/1 (68/343) /content/yolov7-object-tracking/yolov7-object-tracking/yolov7-object-tracking/yolov7-object-tracking/yolov7-object-tracking/background video ｜ people ｜ walking ｜ [ORrrKXGx2SE].webm: 32 persons, Done. (1288.5ms) Inference, (1.3ms) NMS\n",
            "video 1/1 (69/343) /content/yolov7-object-tracking/yolov7-object-tracking/yolov7-object-tracking/yolov7-object-tracking/yolov7-object-tracking/background video ｜ people ｜ walking ｜ [ORrrKXGx2SE].webm: 32 persons, Done. (1268.2ms) Inference, (1.4ms) NMS\n",
            "video 1/1 (70/343) /content/yolov7-object-tracking/yolov7-object-tracking/yolov7-object-tracking/yolov7-object-tracking/yolov7-object-tracking/background video ｜ people ｜ walking ｜ [ORrrKXGx2SE].webm: 31 persons, Done. (1260.5ms) Inference, (1.2ms) NMS\n",
            "video 1/1 (71/343) /content/yolov7-object-tracking/yolov7-object-tracking/yolov7-object-tracking/yolov7-object-tracking/yolov7-object-tracking/background video ｜ people ｜ walking ｜ [ORrrKXGx2SE].webm: 32 persons, Done. (1267.7ms) Inference, (1.3ms) NMS\n",
            "video 1/1 (72/343) /content/yolov7-object-tracking/yolov7-object-tracking/yolov7-object-tracking/yolov7-object-tracking/yolov7-object-tracking/background video ｜ people ｜ walking ｜ [ORrrKXGx2SE].webm: 34 persons, Done. (1256.9ms) Inference, (1.3ms) NMS\n",
            "video 1/1 (73/343) /content/yolov7-object-tracking/yolov7-object-tracking/yolov7-object-tracking/yolov7-object-tracking/yolov7-object-tracking/background video ｜ people ｜ walking ｜ [ORrrKXGx2SE].webm: 33 persons, Done. (1264.3ms) Inference, (1.2ms) NMS\n",
            "video 1/1 (74/343) /content/yolov7-object-tracking/yolov7-object-tracking/yolov7-object-tracking/yolov7-object-tracking/yolov7-object-tracking/background video ｜ people ｜ walking ｜ [ORrrKXGx2SE].webm: 35 persons, Done. (1260.6ms) Inference, (1.3ms) NMS\n",
            "video 1/1 (75/343) /content/yolov7-object-tracking/yolov7-object-tracking/yolov7-object-tracking/yolov7-object-tracking/yolov7-object-tracking/background video ｜ people ｜ walking ｜ [ORrrKXGx2SE].webm: 33 persons, Done. (1947.5ms) Inference, (1.6ms) NMS\n",
            "video 1/1 (76/343) /content/yolov7-object-tracking/yolov7-object-tracking/yolov7-object-tracking/yolov7-object-tracking/yolov7-object-tracking/background video ｜ people ｜ walking ｜ [ORrrKXGx2SE].webm: 33 persons, Done. (1952.0ms) Inference, (2.0ms) NMS\n",
            "video 1/1 (77/343) /content/yolov7-object-tracking/yolov7-object-tracking/yolov7-object-tracking/yolov7-object-tracking/yolov7-object-tracking/background video ｜ people ｜ walking ｜ [ORrrKXGx2SE].webm: 34 persons, Done. (1278.6ms) Inference, (1.2ms) NMS\n",
            "video 1/1 (78/343) /content/yolov7-object-tracking/yolov7-object-tracking/yolov7-object-tracking/yolov7-object-tracking/yolov7-object-tracking/background video ｜ people ｜ walking ｜ [ORrrKXGx2SE].webm: 34 persons, Done. (1256.8ms) Inference, (1.3ms) NMS\n",
            "video 1/1 (79/343) /content/yolov7-object-tracking/yolov7-object-tracking/yolov7-object-tracking/yolov7-object-tracking/yolov7-object-tracking/background video ｜ people ｜ walking ｜ [ORrrKXGx2SE].webm: 34 persons, Done. (1257.5ms) Inference, (1.2ms) NMS\n",
            "video 1/1 (80/343) /content/yolov7-object-tracking/yolov7-object-tracking/yolov7-object-tracking/yolov7-object-tracking/yolov7-object-tracking/background video ｜ people ｜ walking ｜ [ORrrKXGx2SE].webm: 35 persons, Done. (1271.2ms) Inference, (1.3ms) NMS\n",
            "video 1/1 (81/343) /content/yolov7-object-tracking/yolov7-object-tracking/yolov7-object-tracking/yolov7-object-tracking/yolov7-object-tracking/background video ｜ people ｜ walking ｜ [ORrrKXGx2SE].webm: 35 persons, Done. (1265.0ms) Inference, (1.3ms) NMS\n",
            "video 1/1 (82/343) /content/yolov7-object-tracking/yolov7-object-tracking/yolov7-object-tracking/yolov7-object-tracking/yolov7-object-tracking/background video ｜ people ｜ walking ｜ [ORrrKXGx2SE].webm: 35 persons, Done. (1255.3ms) Inference, (1.3ms) NMS\n",
            "video 1/1 (83/343) /content/yolov7-object-tracking/yolov7-object-tracking/yolov7-object-tracking/yolov7-object-tracking/yolov7-object-tracking/background video ｜ people ｜ walking ｜ [ORrrKXGx2SE].webm: 36 persons, Done. (1260.5ms) Inference, (1.3ms) NMS\n",
            "video 1/1 (84/343) /content/yolov7-object-tracking/yolov7-object-tracking/yolov7-object-tracking/yolov7-object-tracking/yolov7-object-tracking/background video ｜ people ｜ walking ｜ [ORrrKXGx2SE].webm: 36 persons, Done. (1520.5ms) Inference, (1.6ms) NMS\n",
            "video 1/1 (85/343) /content/yolov7-object-tracking/yolov7-object-tracking/yolov7-object-tracking/yolov7-object-tracking/yolov7-object-tracking/background video ｜ people ｜ walking ｜ [ORrrKXGx2SE].webm: 37 persons, Done. (1966.1ms) Inference, (1.7ms) NMS\n",
            "video 1/1 (86/343) /content/yolov7-object-tracking/yolov7-object-tracking/yolov7-object-tracking/yolov7-object-tracking/yolov7-object-tracking/background video ｜ people ｜ walking ｜ [ORrrKXGx2SE].webm: 38 persons, Done. (1689.2ms) Inference, (1.3ms) NMS\n",
            "video 1/1 (87/343) /content/yolov7-object-tracking/yolov7-object-tracking/yolov7-object-tracking/yolov7-object-tracking/yolov7-object-tracking/background video ｜ people ｜ walking ｜ [ORrrKXGx2SE].webm: 38 persons, Done. (1277.8ms) Inference, (1.5ms) NMS\n"
          ]
        }
      ]
    }
  ]
}