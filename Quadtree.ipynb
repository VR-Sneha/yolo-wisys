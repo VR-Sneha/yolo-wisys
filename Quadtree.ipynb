{
  "nbformat": 4,
  "nbformat_minor": 0,
  "metadata": {
    "colab": {
      "provenance": []
    },
    "kernelspec": {
      "name": "python3",
      "display_name": "Python 3"
    },
    "language_info": {
      "name": "python"
    }
  },
  "cells": [
    {
      "cell_type": "code",
      "execution_count": null,
      "metadata": {
        "id": "dQ12AW11xZwx"
      },
      "outputs": [],
      "source": [
        "import matplotlib.pyplot as plt\n",
        "import cv2\n",
        "import numpy as np\n",
        "img = cv2.imread(\"IMG_8366.JPG\")\n",
        "from operator import add\n",
        "from functools import reduce\n",
        "def split4(image):\n",
        "half_split = np.array_split(image, 2)\n",
        "res = map(lambda x: np.array_split(x, 2, axis= 1), half_split)\n",
        "return reduce(add, res)\n",
        "split_img = split4(img)\n",
        "split_img[0].shape, split_img[1].shape\n",
        "fig, axs = plt.subplots(2, 2)\n",
        "axs[0, 0].imshow(split_img[0])\n",
        "axs[0, 1].imshow(split_img[1])\n",
        "axs[1, 0].imshow(split_img[2])\n",
        "axs[1, 1].imshow(split_img[3])\n",
        "def concatenate4(north_west, north_east, south_west, south_east):\n",
        "top = np.concatenate((north_west, north_east), axis=1)\n",
        "bottom = np.concatenate((south_west, south_east), axis=1)\n",
        "return np.concatenate((top, bottom), axis=0)\n",
        "full_img = concatenate4(split_img[0], split_img[1], split_img[2], split_img[3])\n",
        "plt.imshow(full_img)\n"
      ]
    }
  ]
}